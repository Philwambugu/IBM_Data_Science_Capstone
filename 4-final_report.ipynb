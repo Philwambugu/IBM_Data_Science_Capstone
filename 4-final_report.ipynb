{
 "cells": [
  {
   "cell_type": "markdown",
   "id": "6af3b8d3-51bd-4a83-9302-877f2d83d1dc",
   "metadata": {},
   "source": [
    "## Final Report | Capstone Project – The Battle of Neighborhoods Finding a Better Place in Scarborough, Toronto"
   ]
  },
  {
   "cell_type": "markdown",
   "id": "231a7a24-9cfc-44d6-a310-3685802f87aa",
   "metadata": {},
   "source": [
    " "
   ]
  },
  {
   "cell_type": "markdown",
   "id": "f3dceeb7-5d38-40c9-a98c-144810328fc9",
   "metadata": {},
   "source": [
    " "
   ]
  },
  {
   "cell_type": "markdown",
   "id": "879c1882-8a41-41e6-89fd-a901c654a2c6",
   "metadata": {},
   "source": [
    "#### 1. Introduction"
   ]
  },
  {
   "cell_type": "markdown",
   "id": "93560c01-fff8-45a9-82e9-9f44a2b59a37",
   "metadata": {},
   "source": [
    "The purpose of this Project is to help people in exploring better facilities around their neighborhood. It will help people making smart and efficient decision on selecting great neighborhood out of numbers of other neighborhoods in Scarborough, Toranto. Lots of people are migrating to various states of Canada and needed lots of research for good housing prices and reputated schools for their children. This project is for those people who are looking for better neighborhoods. For ease of accessing to Cafe, School, Super market, medical shops, grocery shops, mall, theatre, hospital, like minded people, etc. This Project aim to create an analysis of features for a people migrating to Scarborough to search a best neighborhood as a comparative analysis between neighborhoods. The features include median housing price and better school according to ratings, crime rates of that particular area, road connectivity, weather conditions, good management for emergency, water resources both freash and waste water and excrement conveyed in sewers and recreational facilities. It will help people to get awareness of the area and neighborhood before moving to a new city, state, country or place for their work or to start a new fresh life."
   ]
  },
  {
   "cell_type": "markdown",
   "id": "5ed331b1-5229-4053-aa89-f44e1558763c",
   "metadata": {},
   "source": [
    " "
   ]
  },
  {
   "cell_type": "markdown",
   "id": "e371ddbd-e35d-4327-97fc-3f620b22727f",
   "metadata": {},
   "source": [
    " "
   ]
  },
  {
   "cell_type": "markdown",
   "id": "e325b855-a3e4-46b3-b718-f8de50d85952",
   "metadata": {},
   "source": [
    "#### 2. Data Section"
   ]
  },
  {
   "cell_type": "markdown",
   "id": "ba1471ae-fb45-458f-a1a0-23b957dc4ba5",
   "metadata": {},
   "source": [
    "Data Link: https://en.wikipedia.org/wiki/List_of_postal_codes_of_Canada:_M \n",
    "\n",
    "Will use Scarborough dataset which we scrapped from wikipedia on Week 3. Dataset consisting of latitude and longitude, zip codes."
   ]
  },
  {
   "cell_type": "markdown",
   "id": "9ed0ea61-9c3b-41bd-af94-d65f45e17cab",
   "metadata": {},
   "source": [
    "**Foursquare API Data:**\n",
    "We will need data about different venues in different neighborhoods of that specific borough. In order to gain that information we will use \"Foursquare\" locational information. Foursquare is a location data provider with information about all manner of venues and events within an area of interest. Such information includes venue names, locations, menus and even photos. As such, the foursquare location platform will be used as the sole data source since all the stated required information can be obtained through the API.\n",
    "\n",
    "After finding the list of neighborhoods, we then connect to the Foursquare API to gather information about venues inside each and every neighborhood. For each neighborhood, we have chosen the radius to be 100 meters.\n",
    "\n",
    "The data retrieved from Foursquare contained information of venues within a specified distance of the longitude and latitude of the postcodes. The information obtained per venue as follows:\n",
    "\n",
    "1. Neighborhood\n",
    "2. Neighborhood Latitude\n",
    "3. Neighborhood Longitude\n",
    "4. Venue\n",
    "5. Name of the venue e.g. the name of a store or restaurant\n",
    "6. Venue Latitude\n",
    "7. Venue Longitude\n",
    "8. Venue Category"
   ]
  },
  {
   "cell_type": "markdown",
   "id": "f4f1ed25-adf9-443d-9699-f2339b559831",
   "metadata": {},
   "source": [
    "**Map of Scarborough**\n",
    "![alt text](scarborough_map.jpg)"
   ]
  },
  {
   "cell_type": "markdown",
   "id": "227145c3-8e17-4338-9aaf-34d1fb354110",
   "metadata": {},
   "source": [
    " \n"
   ]
  },
  {
   "cell_type": "markdown",
   "id": "dd9c342a-ce66-427d-a2f1-ffd8bf4b10d6",
   "metadata": {},
   "source": [
    " "
   ]
  },
  {
   "cell_type": "markdown",
   "id": "2d848568-2020-49e6-88ff-75347dd6ef8c",
   "metadata": {},
   "source": [
    "### 3. Methodology Section"
   ]
  },
  {
   "cell_type": "markdown",
   "id": "11ac78a9-7c61-4dc5-a6a8-3a5ab760db98",
   "metadata": {},
   "source": [
    "**Clustering Approach:**\n",
    "To compare the similarities of two cities, we decided to explore neighborhoods, segment them, and group them into clusters to find similar neighborhoods in a big city like New York and Toronto. To be able to do that, we need to cluster data which is a form of unsupervised machine learning: k-means clustering algorithm.\n",
    "\n",
    "Using K-Means Clustering Approach\n",
    "\n",
    "![alt text](scarborough_clusters2.jpg)"
   ]
  },
  {
   "cell_type": "markdown",
   "id": "ed09960a-44e0-42bd-b9da-660c2998f329",
   "metadata": {},
   "source": [
    "**Most Common venues near Neighborhood**\n",
    "\n",
    "![alt text](scarborough_clusters.jpg)"
   ]
  },
  {
   "cell_type": "markdown",
   "id": "83404f1c-de02-404f-9fb2-a3d3217c8ffe",
   "metadata": {},
   "source": [
    "**Work Flow:**\n",
    "Using credentials of Foursquare API features of near-by places of the neighborhoods would be mined. Due to http request limitations the number of places per neighborhood parameter would reasonably be set to 100 and the radius parameter would be set to 700."
   ]
  },
  {
   "cell_type": "markdown",
   "id": "9fae034c-ccbf-4819-8cb0-4e81617b19ff",
   "metadata": {},
   "source": [
    " "
   ]
  },
  {
   "cell_type": "markdown",
   "id": "43f35967-2620-45d1-a2d0-142ac33a80cc",
   "metadata": {},
   "source": [
    " "
   ]
  },
  {
   "cell_type": "markdown",
   "id": "f6951311-4321-40b9-9901-ca11deb54b25",
   "metadata": {},
   "source": [
    "### 4. Results Section\n",
    "\n",
    "**Map of Clusters in Scarborough**\n",
    "\n",
    "![alt text](scarborough_map-clusters.jpg)"
   ]
  },
  {
   "cell_type": "markdown",
   "id": "dc53929c-47e2-4366-9988-d9275a6642e7",
   "metadata": {},
   "source": [
    "**Average Housing Price by Clusters in Scarborough**\n",
    "\n",
    "![alt text](housing-price4.jpg)"
   ]
  },
  {
   "cell_type": "markdown",
   "id": "d580f1ed-ad2c-4bea-a8bb-717db6242cce",
   "metadata": {},
   "source": [
    "**School Ratings by Clusters in Scarborough**\n",
    "\n",
    "![alt text](schoolrating1.jpg)"
   ]
  },
  {
   "cell_type": "markdown",
   "id": "09133b32-2f4a-4530-a73e-26f88ba2d843",
   "metadata": {},
   "source": [
    "**The Location:**\n",
    "Scarborough is a popular destination for new immigrants in Canada. It is one of the most diverse and multicultural areas in the Greater Toronto Area, being home to various religious groups and places of worship. \n",
    "\n",
    "**Foursquare API:**\n",
    "I used Four-square API as its prime data gathering source as it has a database of millions of places, especially their places API which provides the ability to perform location search, location sharing and details about a business."
   ]
  },
  {
   "cell_type": "markdown",
   "id": "6fc2ea40-c17d-4c86-ab92-6cc05e4088b5",
   "metadata": {},
   "source": [
    " "
   ]
  },
  {
   "cell_type": "markdown",
   "id": "a0bc3ae3-df7d-41b9-8d54-e472f5388cdb",
   "metadata": {},
   "source": [
    " "
   ]
  },
  {
   "cell_type": "markdown",
   "id": "d99c3be1-5398-424c-8c04-d22f43762c20",
   "metadata": {},
   "source": [
    "### 5. Discussion Section\n",
    "\n",
    "**Problem Statement:**\n",
    "The purpose of this project is to suggest a better neighborhood in a new city for anyone who is shifting there. Social presence in society in terms of like minded people. Connectivity to the airport, bus stand, city center, markets and other daily needs things nearby.\n",
    "\n",
    "1. Sorted list of house in terms of housing prices in a ascending or descending order\n",
    "2. Sorted list of schools in terms of location, fees, rating and reviews "
   ]
  },
  {
   "cell_type": "markdown",
   "id": "97e3f4f5-8e15-46d9-94b1-f2ca24b8001b",
   "metadata": {},
   "source": [
    " "
   ]
  },
  {
   "cell_type": "markdown",
   "id": "d808fc44-501d-4402-9491-909dce964165",
   "metadata": {},
   "source": [
    " "
   ]
  },
  {
   "cell_type": "markdown",
   "id": "07f12829-65a5-46c1-afde-efa3c6c55222",
   "metadata": {},
   "source": [
    "### 6. Conclusion Section\n",
    "\n",
    "In this project, I separated the neighborhood into 10 different clusters using k-means cluster algorithm and for 103 different lattitude+logitude from dataset, which have similar neighborhoods around them. Using the charts above results presented to a particular neighborhood based on average house prices and school rating have been made.\n",
    "\n",
    "**Future Work:**\n",
    "This project can be continued for making it more precise in terms to find best house in Scarborough. A dashboard can be created using input terms from a user on cost and preference indices and most probably neighborhoods can be suggested using the algorithm.\n"
   ]
  },
  {
   "cell_type": "markdown",
   "id": "061f62a4-97d7-44f3-ae77-66793f89dcbd",
   "metadata": {},
   "source": [
    "**Libraries which were used to create the project -**\n",
    "1. Pandas: For creating and manipulating dataframes.\n",
    "2. Folium: Python visualization library would be used to visualize the neighborhoods cluster distribution of using interactive leaflet map.\n",
    "3. Scikit Learn: For importing k-means clustering.\n",
    "4. JSON: Library to handle JSON files.\n",
    "5. XML: To separate data from presentation and XML stores data in plain text format.\n",
    "6. Geocoder: To retrieve Location Data.\n",
    "7. Beautiful Soup and Requests: To scrap and library to handle http requests.\n",
    "8. Matplotlib: Python Plotting Module."
   ]
  },
  {
   "cell_type": "code",
   "execution_count": null,
   "id": "46061dae-0fe3-4897-9d96-7ef61c53e867",
   "metadata": {},
   "outputs": [],
   "source": []
  }
 ],
 "metadata": {
  "kernelspec": {
   "display_name": "Python",
   "language": "python",
   "name": "conda-env-python-py"
  },
  "language_info": {
   "codemirror_mode": {
    "name": "ipython",
    "version": 3
   },
   "file_extension": ".py",
   "mimetype": "text/x-python",
   "name": "python",
   "nbconvert_exporter": "python",
   "pygments_lexer": "ipython3",
   "version": "3.6.13"
  }
 },
 "nbformat": 4,
 "nbformat_minor": 5
}
