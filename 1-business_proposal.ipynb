{
 "cells": [
  {
   "cell_type": "markdown",
   "id": "86f219e4-55f9-4106-a674-c8721319ef35",
   "metadata": {},
   "source": [
    "# The Battle of Neighborhoods | Business Proposal | Introduction"
   ]
  },
  {
   "cell_type": "markdown",
   "id": "bced01ec-2575-4b69-9ce9-52488259e7b2",
   "metadata": {},
   "source": [
    "#### 1. Introduction\n",
    "The purpose of this Project is to help people in exploring better facilities around their neighborhood. It will help people making smart and efficient decision on selecting great neighborhood out of numbers of other neighborhoods in Scarborough, Toranto. Lots of people are migrating to various states of Canada and needed lots of research for good housing prices and reputated schools for their children. This project is for those people who are looking for better neighborhoods. For ease of accessing to Cafe, School, Super market, medical shops, grocery shops, mall, theatre, hospital, like minded people, etc. This Project aim to create an analysis of features for a people migrating to Scarborough to search a best neighborhood as a comparative analysis between neighborhoods. The features include median housing price and better school according to ratings, crime rates of that particular area, road connectivity, weather conditions, good management for emergency, water resources both freash and waste water and excrement conveyed in sewers and recreational facilities. It will help people to get awareness of the area and neighborhood before moving to a new city, state, country or place for their work or to start a new fresh life."
   ]
  },
  {
   "cell_type": "markdown",
   "id": "9feb1604-b96c-40cc-b32d-6e5f5bd95534",
   "metadata": {},
   "source": [
    "**Problem Statement:**\n",
    "The major purpose of this project, is to suggest a better neighborhood in a new city for the person who are moving there. Social presence in society in terms of like minded people. Connectivity to the airport, bus stand, city center, markets and other daily needs things nearby.\n",
    "\n",
    "1. Sorted list of house in terms of housing prices in a ascending or descending order\n",
    "2. Sorted list of schools in terms of location, fees, rating and reviews"
   ]
  },
  {
   "cell_type": "markdown",
   "id": "47b07fc1-4323-4185-bb60-5e7ca5b1af71",
   "metadata": {},
   "source": [
    "**The Location:**\n",
    "Scarborough is a popular destination for new immigrants in Canada to reside. As a result, it is one of the most diverse and multicultural areas in the Greater Toronto Area, being home to various religious groups and places of worship. "
   ]
  },
  {
   "cell_type": "markdown",
   "id": "cb7c9dbd-cbe0-4e9c-aa52-257c5a140a27",
   "metadata": {},
   "source": [
    "**Foursquare API:**\n",
    "This project would use Four-square API as its prime data gathering source as it has a database of millions of places, especially their places API which provides the ability to perform location search, location sharing and details about a business."
   ]
  },
  {
   "cell_type": "markdown",
   "id": "54f2c6ad-dd08-46cc-9d86-2748f0a53d6b",
   "metadata": {},
   "source": [
    "**Work Flow:**\n",
    "Using credentials of Foursquare API features of near-by places of the neighborhoods would be mined. Due to http request limitations the number of places per neighborhood parameter would reasonably be set to 100 and the radius parameter would be set to 700."
   ]
  },
  {
   "cell_type": "markdown",
   "id": "c24b24b2-7970-40ae-a0eb-6281f0dca5bd",
   "metadata": {},
   "source": [
    "**Clustering Approach:**\n",
    "To compare the similarities of two cities, we decided to explore neighborhoods, segment them, and group them into clusters to find similar neighborhoods in a big city like New York and Toronto. To be able to do that, we need to cluster data which is a form of unsupervised machine learning: k-means clustering algorithm"
   ]
  },
  {
   "cell_type": "markdown",
   "id": "ee31e5e0-1d4f-4d4f-9968-99354f1f4af2",
   "metadata": {},
   "source": [
    "**Libraries which were used to create the project -**\n",
    "1. Pandas: For creating and manipulating dataframes.\n",
    "2. Folium: Python visualization library would be used to visualize the neighborhoods cluster distribution of using interactive leaflet map.\n",
    "3. Scikit Learn: For importing k-means clustering.\n",
    "4. JSON: Library to handle JSON files.\n",
    "5. XML: To separate data from presentation and XML stores data in plain text format.\n",
    "6. Geocoder: To retrieve Location Data.\n",
    "7. Beautiful Soup and Requests: To scrap and library to handle http requests.\n",
    "8. Matplotlib: Python Plotting Module."
   ]
  },
  {
   "cell_type": "code",
   "execution_count": null,
   "id": "f51dc7ab-f25c-4153-8fff-00adf9285b7b",
   "metadata": {},
   "outputs": [],
   "source": []
  }
 ],
 "metadata": {
  "kernelspec": {
   "display_name": "Python",
   "language": "python",
   "name": "conda-env-python-py"
  },
  "language_info": {
   "codemirror_mode": {
    "name": "ipython",
    "version": 3
   },
   "file_extension": ".py",
   "mimetype": "text/x-python",
   "name": "python",
   "nbconvert_exporter": "python",
   "pygments_lexer": "ipython3",
   "version": "3.6.13"
  }
 },
 "nbformat": 4,
 "nbformat_minor": 5
}
