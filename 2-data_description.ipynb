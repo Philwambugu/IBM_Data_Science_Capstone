{
 "cells": [
  {
   "cell_type": "markdown",
   "id": "49173b62-287b-430d-b999-f92dd9a257e4",
   "metadata": {},
   "source": [
    "## The Battle of Neighborhoods | Data Description"
   ]
  },
  {
   "cell_type": "markdown",
   "id": "ee80e3b0-2481-4ccf-bc19-4fd684e42bbb",
   "metadata": {},
   "source": [
    "#### **Data Description:**\n",
    "\n",
    "Data Link: https://en.wikipedia.org/wiki/List_of_postal_codes_of_Canada:_M\n",
    "\n",
    "Will use Scarborough dataset which we scrapped from wikipedia on Week 3. Dataset consisting of latitude and longitude, zip codes."
   ]
  },
  {
   "cell_type": "markdown",
   "id": "a710cd46-60c7-4fcc-954e-bead6080a8dc",
   "metadata": {},
   "source": [
    "#### **Foursquare API Data:**\n",
    "\n",
    "We will need data about different venues in different neighborhoods of that specific borough. In order to gain that information we will use \"Foursquare\" locational information. Foursquare is a location data provider with information about all manner of venues and events within an area of interest. Such information includes venue names, locations, menus and even photos. As such, the foursquare location platform will be used as the sole data source since all the stated required information can be obtained through the API.\n",
    "\n",
    "After finding the list of neighborhoods, we then connect to the Foursquare API to gather information about venues inside each and every neighborhood. For each neighborhood, we have chosen the radius to be 100 meters.\n",
    "\n",
    "The data retrieved from Foursquare contained information of venues within a specified distance of the longitude and latitude of the postcodes. The information obtained per venue as follows:\n",
    "\n",
    "1. Neighborhood\n",
    "2. Neighborhood Latitude\n",
    "3. Neighborhood Longitude\n",
    "4. Venue\n",
    "5. Name of the venue e.g. the name of a store or restaurant\n",
    "6. Venue Latitude\n",
    "7. Venue Longitude\n",
    "8. Venue Category"
   ]
  },
  {
   "cell_type": "code",
   "execution_count": null,
   "id": "b6a87737-3e47-49b9-adfc-7ae679fac314",
   "metadata": {},
   "outputs": [],
   "source": []
  }
 ],
 "metadata": {
  "kernelspec": {
   "display_name": "Python",
   "language": "python",
   "name": "conda-env-python-py"
  },
  "language_info": {
   "codemirror_mode": {
    "name": "ipython",
    "version": 3
   },
   "file_extension": ".py",
   "mimetype": "text/x-python",
   "name": "python",
   "nbconvert_exporter": "python",
   "pygments_lexer": "ipython3",
   "version": "3.6.13"
  }
 },
 "nbformat": 4,
 "nbformat_minor": 5
}
